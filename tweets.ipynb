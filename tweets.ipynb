{
 "cells": [
  {
   "cell_type": "markdown",
   "metadata": {},
   "source": [
    "# Initial thoughts \n",
    "### Things done well:\n",
    "- This was my first proper ML project where I achieved a high accuracy compared to my peers\n",
    "- I spent a high amount of time on the project and it really started my passion for ML#\n",
    "- I learnt many skills such as handling different types of data, data processing, trying and improving different models, tf-idf, dimensionality reduction\n",
    "\n",
    "### Improvements:\n",
    "- I spent most of the time trying to increasing my training score as high as possible which is bad as this clearly leads to overfitting\n",
    "- My inital data exploration and subsquent visualisations were poor\n",
    "- I used a bazaar versioning system rather than Jupyter notebooks\n",
    "- I didnt structure my work very well and the explainations were more a stream of thoughts. \n",
    "\n",
    "# We start again\n",
    "\n",
    "## Frame the problem\n",
    "The problem is that we want to be able to take a tweet about a live news story and give a classification as to whether the contents of the message is real or fake. Such a system would be used by a news company to increase their confidence that any tweets they post in their articles are geniune. \n",
    "\n",
    "A current system would require a journalist to go through each individual tweet and make a decision themselves. With this system a list of refined real tweets could be presented to the journalist.\n",
    "\n",
    "It is a supervised offline classification problem where the perfromance is measured by F1 score - the higher the score the more we can trust that a tweet classified as real is a genuine source that can be included in a report\n",
    "\n",
    "I do have my previous system that I could reuse but I won't as in this project I am not looking for high performance but rather a well strucuted notebook with insights and graphs that give reason to my decision making. The only expertise available is my own real world experince of using twitter and seeing how fake tweets are often used by trolls. \n",
    "\n",
    "The minimum perfromance needed to add value is unknown, if we can produce a system that 9/10 gives a correct prediction then this is likely to be useful. \n",
    "\n",
    "The project contains tweet text data for which there are similiar projects avaible that could be looked at for inspiration.\n",
    "\n",
    "\n",
    "## Get the data\n",
    "\n",
    "Data is provided as part of the coursework. The data is real world tweets collected about Hurricane Sandy that hit the US in late 2012\n",
    "\n",
    "## Explore the data"
   ]
  },
  {
   "cell_type": "code",
   "execution_count": 141,
   "metadata": {},
   "outputs": [],
   "source": [
    "# Python ≥3.5 is required\n",
    "import sys\n",
    "assert sys.version_info >= (3, 5)\n",
    "\n",
    "# Scikit-Learn ≥0.20 is required\n",
    "import sklearn\n",
    "assert sklearn.__version__ >= \"0.20\"\n",
    "\n",
    "# Common imports\n",
    "import numpy as np\n",
    "import os\n",
    "import pandas as pd\n",
    "# To plot pretty figures\n",
    "%matplotlib inline\n",
    "import matplotlib as mpl\n",
    "import matplotlib.pyplot as plt\n",
    "mpl.rc('axes', labelsize=14)\n",
    "mpl.rc('xtick', labelsize=12)\n",
    "mpl.rc('ytick', labelsize=12)"
   ]
  },
  {
   "cell_type": "code",
   "execution_count": 142,
   "metadata": {},
   "outputs": [],
   "source": [
    "data_raw = pd.read_csv(\"data/mediaeval-2015-trainingset.txt\", sep='\\t')"
   ]
  },
  {
   "cell_type": "code",
   "execution_count": 143,
   "metadata": {},
   "outputs": [
    {
     "name": "stdout",
     "output_type": "stream",
     "text": [
      "<class 'pandas.core.frame.DataFrame'>\n",
      "RangeIndex: 14277 entries, 0 to 14276\n",
      "Data columns (total 7 columns):\n",
      " #   Column      Non-Null Count  Dtype \n",
      "---  ------      --------------  ----- \n",
      " 0   tweetId     14277 non-null  int64 \n",
      " 1   tweetText   14277 non-null  object\n",
      " 2   userId      14277 non-null  int64 \n",
      " 3   imageId(s)  14277 non-null  object\n",
      " 4   username    14277 non-null  object\n",
      " 5   timestamp   14277 non-null  object\n",
      " 6   label       14277 non-null  object\n",
      "dtypes: int64(2), object(5)\n",
      "memory usage: 780.9+ KB\n"
     ]
    }
   ],
   "source": [
    "data_raw.info()"
   ]
  },
  {
   "cell_type": "markdown",
   "metadata": {},
   "source": [
    "Straight away we can see all of the columns and that it appears we do not have any null vlaues. We have two int columns (tweetId and userId) and then 5 object columns. Both int columns are Id's so there is limited (if any) data inspection we can do here. We could look for duplicates"
   ]
  },
  {
   "cell_type": "code",
   "execution_count": 144,
   "metadata": {},
   "outputs": [],
   "source": [
    "from sklearn.model_selection import StratifiedShuffleSplit\n",
    "\n",
    "split = StratifiedShuffleSplit(n_splits=1, test_size=0.2, random_state=42)\n",
    "for train_index, test_index in split.split(data_raw, data_raw[\"label\"]):\n",
    "    strat_train_set = data_raw.loc[train_index]\n",
    "    strat_test_set = data_raw.loc[test_index]"
   ]
  },
  {
   "cell_type": "code",
   "execution_count": 145,
   "metadata": {},
   "outputs": [],
   "source": [
    "num_attribs = ['tweetId', 'userId']\n",
    "obj_attribs = [x for x in data_raw.columns if x not in num_attribs]"
   ]
  },
  {
   "cell_type": "code",
   "execution_count": 146,
   "metadata": {},
   "outputs": [
    {
     "name": "stdout",
     "output_type": "stream",
     "text": [
      "139189262     16.0\n",
      "834560797     10.0\n",
      "357078809      9.0\n",
      "89221442       8.0\n",
      "2623669827     8.0\n",
      "              ... \n",
      "392302245      2.0\n",
      "464045416      2.0\n",
      "339187255      2.0\n",
      "244344102      2.0\n",
      "31322164       2.0\n",
      "Name: userId, Length: 551, dtype: float64\n"
     ]
    }
   ],
   "source": [
    "users_with_more = data_raw['userId'].value_counts().where(lambda x : x > 1).dropna()\n",
    "print(users_with_more)"
   ]
  },
  {
   "cell_type": "markdown",
   "metadata": {},
   "source": [
    "There are 551 users that appear more than once but will not include 'userId' as a training attribute. This makes sense as this could lead to a model overfitting in the real world. For instance if the model learns that one users tweets are always real and then in practice the system has a fake input from this user it could get passed to the journalist and defeat the goal of the system. However, it could be argued that identifying accounts that are reputable sources or not could be used, this would have to be something to go back to the product owner to discuss. \n",
    "\n",
    "We will also look at tweetId in a similar way"
   ]
  },
  {
   "cell_type": "code",
   "execution_count": 147,
   "metadata": {},
   "outputs": [
    {
     "name": "stdout",
     "output_type": "stream",
     "text": [
      "264736470089216000    2.0\n",
      "263351427320131584    2.0\n",
      "Name: tweetId, dtype: float64\n",
      "[264736470089216000, 263351427320131584]\n"
     ]
    }
   ],
   "source": [
    "tweets_with_more = data_raw['tweetId'].value_counts().where(lambda x : x > 1).dropna()\n",
    "tweetIds = tweets_with_more.keys().tolist()\n",
    "print(tweets_with_more)\n",
    "print(tweetIds)"
   ]
  },
  {
   "cell_type": "code",
   "execution_count": 148,
   "metadata": {},
   "outputs": [
    {
     "name": "stdout",
     "output_type": "stream",
     "text": [
      "                  tweetId                                          tweetText  \\\n",
      "2439   264736470089216000  Lower Manhattan's power is gone. Pretty eerie ...   \n",
      "7744   263351427320131584            Ground Zero #Sandy http://t.co/KA1jNv3I   \n",
      "7821   263351427320131584            Ground Zero #Sandy http://t.co/KA1jNv3I   \n",
      "11947  264736470089216000  Lower Manhattan's power is gone. Pretty eerie ...   \n",
      "\n",
      "         userId      imageId(s)      username                       timestamp  \\\n",
      "2439    2675041  sandyB_fake_11         cDima  Sat Nov 03 14:31:07 +0000 2012   \n",
      "7744   15933769  sandyA_real_04  AngelaYvonne  Tue Oct 30 18:47:27 +0000 2012   \n",
      "7821   15933769  sandyA_real_04  AngelaYvonne  Tue Oct 30 18:47:27 +0000 2012   \n",
      "11947   2675041  sandyB_real_54         cDima  Sat Nov 03 14:31:07 +0000 2012   \n",
      "\n",
      "      label  \n",
      "2439   fake  \n",
      "7744   real  \n",
      "7821   real  \n",
      "11947  real  \n"
     ]
    }
   ],
   "source": [
    "print(data_raw[data_raw['tweetId'].isin(tweetIds)])"
   ]
  },
  {
   "cell_type": "markdown",
   "metadata": {},
   "source": [
    "The 'Ground zero' tweets are identical with both having 'real' labels. However, for the 'Lower Manhattan's' tweets one is real and one is fake; the only difference is their imageId(s). We can gain insight here that some of the imageId's actually contain the correct label for the tweet. We can make a feature out of this."
   ]
  },
  {
   "cell_type": "code",
   "execution_count": 149,
   "metadata": {},
   "outputs": [
    {
     "name": "stdout",
     "output_type": "stream",
     "text": [
      "                  tweetId                                          tweetText  \\\n",
      "2439   264736470089216000  Lower Manhattan's power is gone. Pretty eerie ...   \n",
      "7744   263351427320131584            Ground Zero #Sandy http://t.co/KA1jNv3I   \n",
      "11947  264736470089216000  Lower Manhattan's power is gone. Pretty eerie ...   \n",
      "\n",
      "         userId      imageId(s)      username                       timestamp  \\\n",
      "2439    2675041  sandyB_fake_11         cDima  Sat Nov 03 14:31:07 +0000 2012   \n",
      "7744   15933769  sandyA_real_04  AngelaYvonne  Tue Oct 30 18:47:27 +0000 2012   \n",
      "11947   2675041  sandyB_real_54         cDima  Sat Nov 03 14:31:07 +0000 2012   \n",
      "\n",
      "      label  \n",
      "2439   fake  \n",
      "7744   real  \n",
      "11947  real  \n"
     ]
    }
   ],
   "source": [
    "data_raw = data_raw.drop_duplicates()\n",
    "print(data_raw[data_raw['tweetId'].isin(tweetIds)])"
   ]
  },
  {
   "cell_type": "markdown",
   "metadata": {},
   "source": [
    "We have removed the one duplicate entry and let the two tweets with different imageId(s). It would be useful to look at the users with multiple tweets to see if they tend to be true or fake tweets"
   ]
  },
  {
   "cell_type": "code",
   "execution_count": 150,
   "metadata": {},
   "outputs": [
    {
     "data": {
      "text/html": [
       "<div>\n",
       "<style scoped>\n",
       "    .dataframe tbody tr th:only-of-type {\n",
       "        vertical-align: middle;\n",
       "    }\n",
       "\n",
       "    .dataframe tbody tr th {\n",
       "        vertical-align: top;\n",
       "    }\n",
       "\n",
       "    .dataframe thead th {\n",
       "        text-align: right;\n",
       "    }\n",
       "</style>\n",
       "<table border=\"1\" class=\"dataframe\">\n",
       "  <thead>\n",
       "    <tr style=\"text-align: right;\">\n",
       "      <th></th>\n",
       "      <th>tweetId</th>\n",
       "      <th>tweetText</th>\n",
       "      <th>userId</th>\n",
       "      <th>imageId(s)</th>\n",
       "      <th>username</th>\n",
       "      <th>timestamp</th>\n",
       "      <th>label</th>\n",
       "    </tr>\n",
       "  </thead>\n",
       "  <tbody>\n",
       "    <tr>\n",
       "      <th>0</th>\n",
       "      <td>263046056240115712</td>\n",
       "      <td>¿Se acuerdan de la película: “El día después d...</td>\n",
       "      <td>21226711</td>\n",
       "      <td>sandyA_fake_46</td>\n",
       "      <td>iAnnieM</td>\n",
       "      <td>Mon Oct 29 22:34:01 +0000 2012</td>\n",
       "      <td>fake</td>\n",
       "    </tr>\n",
       "    <tr>\n",
       "      <th>1</th>\n",
       "      <td>262995061304852481</td>\n",
       "      <td>@milenagimon: Miren a Sandy en NY!  Tremenda i...</td>\n",
       "      <td>192378571</td>\n",
       "      <td>sandyA_fake_09</td>\n",
       "      <td>CarlosVerareal</td>\n",
       "      <td>Mon Oct 29 19:11:23 +0000 2012</td>\n",
       "      <td>fake</td>\n",
       "    </tr>\n",
       "    <tr>\n",
       "      <th>2</th>\n",
       "      <td>262979898002534400</td>\n",
       "      <td>Buena la foto del Huracán Sandy, me recuerda a...</td>\n",
       "      <td>132303095</td>\n",
       "      <td>sandyA_fake_09</td>\n",
       "      <td>LucasPalape</td>\n",
       "      <td>Mon Oct 29 18:11:08 +0000 2012</td>\n",
       "      <td>fake</td>\n",
       "    </tr>\n",
       "    <tr>\n",
       "      <th>3</th>\n",
       "      <td>262996108400271360</td>\n",
       "      <td>Scary shit #hurricane #NY http://t.co/e4JLBUfH</td>\n",
       "      <td>241995902</td>\n",
       "      <td>sandyA_fake_29</td>\n",
       "      <td>Haaaaarryyy</td>\n",
       "      <td>Mon Oct 29 19:15:33 +0000 2012</td>\n",
       "      <td>fake</td>\n",
       "    </tr>\n",
       "    <tr>\n",
       "      <th>4</th>\n",
       "      <td>263018881839411200</td>\n",
       "      <td>My fave place in the world #nyc #hurricane #sa...</td>\n",
       "      <td>250315890</td>\n",
       "      <td>sandyA_fake_15</td>\n",
       "      <td>princess__natt</td>\n",
       "      <td>Mon Oct 29 20:46:02 +0000 2012</td>\n",
       "      <td>fake</td>\n",
       "    </tr>\n",
       "  </tbody>\n",
       "</table>\n",
       "</div>"
      ],
      "text/plain": [
       "              tweetId                                          tweetText  \\\n",
       "0  263046056240115712  ¿Se acuerdan de la película: “El día después d...   \n",
       "1  262995061304852481  @milenagimon: Miren a Sandy en NY!  Tremenda i...   \n",
       "2  262979898002534400  Buena la foto del Huracán Sandy, me recuerda a...   \n",
       "3  262996108400271360     Scary shit #hurricane #NY http://t.co/e4JLBUfH   \n",
       "4  263018881839411200  My fave place in the world #nyc #hurricane #sa...   \n",
       "\n",
       "      userId      imageId(s)        username                       timestamp  \\\n",
       "0   21226711  sandyA_fake_46         iAnnieM  Mon Oct 29 22:34:01 +0000 2012   \n",
       "1  192378571  sandyA_fake_09  CarlosVerareal  Mon Oct 29 19:11:23 +0000 2012   \n",
       "2  132303095  sandyA_fake_09     LucasPalape  Mon Oct 29 18:11:08 +0000 2012   \n",
       "3  241995902  sandyA_fake_29     Haaaaarryyy  Mon Oct 29 19:15:33 +0000 2012   \n",
       "4  250315890  sandyA_fake_15  princess__natt  Mon Oct 29 20:46:02 +0000 2012   \n",
       "\n",
       "  label  \n",
       "0  fake  \n",
       "1  fake  \n",
       "2  fake  \n",
       "3  fake  \n",
       "4  fake  "
      ]
     },
     "execution_count": 150,
     "metadata": {},
     "output_type": "execute_result"
    }
   ],
   "source": [
    "data_raw.head()"
   ]
  },
  {
   "cell_type": "code",
   "execution_count": 151,
   "metadata": {},
   "outputs": [
    {
     "data": {
      "text/plain": [
       "<AxesSubplot:>"
      ]
     },
     "execution_count": 151,
     "metadata": {},
     "output_type": "execute_result"
    },
    {
     "data": {
      "image/png": "[encoded data removed]",
      "text/plain": [
       "<Figure size 432x288 with 1 Axes>"
      ]
     },
     "metadata": {
      "needs_background": "light"
     },
     "output_type": "display_data"
    }
   ],
   "source": [
    "import seaborn as sns\n",
    "\n",
    "data_raw['label'].value_counts().plot(kind='bar')"
   ]
  },
  {
   "cell_type": "code",
   "execution_count": 152,
   "metadata": {},
   "outputs": [
    {
     "data": {
      "text/plain": [
       "<AxesSubplot:>"
      ]
     },
     "execution_count": 152,
     "metadata": {},
     "output_type": "execute_result"
    },
    {
     "data": {
      "image/png": "[encoded data removed]",
      "text/plain": [
       "<Figure size 432x288 with 1 Axes>"
      ]
     },
     "metadata": {
      "needs_background": "light"
     },
     "output_type": "display_data"
    }
   ],
   "source": [
    "data_raw['label'] = data_raw['label'].replace({'humor':'fake'})\n",
    "data_raw['label'].value_counts().plot(kind='bar')"
   ]
  },
  {
   "cell_type": "markdown",
   "metadata": {},
   "source": [
    "Removed the 'humor' label as from the project specification we do not want to predict this label so the entries with this label have been cast to fake as the as specified by the requirement. We can see from the counts of the fake and real labels that we do have a very skewed dataset. This would be something to look into (TODO)"
   ]
  },
  {
   "cell_type": "code",
   "execution_count": 153,
   "metadata": {},
   "outputs": [
    {
     "data": {
      "text/plain": [
       "<AxesSubplot:xlabel='username', ylabel='count'>"
      ]
     },
     "execution_count": 153,
     "metadata": {},
     "output_type": "execute_result"
    },
    {
     "data": {
      "image/png": "[encoded data removed]",
      "text/plain": [
       "<Figure size 1584x648 with 1 Axes>"
      ]
     },
     "metadata": {},
     "output_type": "display_data"
    }
   ],
   "source": [
    "freq_users = data_raw.groupby('username').filter(lambda x : len(x) > 3)\n",
    "freq_users.head()\n",
    "\n",
    "\n",
    "sns.set(rc={'figure.figsize':(22,9)})\n",
    "sns.countplot(x=\"username\", hue='label', data=freq_users)"
   ]
  },
  {
   "cell_type": "markdown",
   "metadata": {},
   "source": [
    "The userId's arent visible but we can see that some users (those with more than tweets in the dataset) do tweet completely either fake or real tweets but there are mixed accounts. I'm undecided if we should keep username in the dataset, this would be something to go back to the product owners on. We can drop userId as, by definition, it is purely a unique id for that user. We can also drop 'tweetId' as from context of the problem the Id of a tweet has no relation to its context and therefore if it is real or not. To stop the number of features growing too much, we will not include the userId/username features. "
   ]
  },
  {
   "cell_type": "code",
   "execution_count": 154,
   "metadata": {},
   "outputs": [
    {
     "name": "stdout",
     "output_type": "stream",
     "text": [
      "Index(['tweetText', 'imageId(s)', 'username', 'timestamp', 'label'], dtype='object')\n"
     ]
    }
   ],
   "source": [
    "data_raw = data_raw.drop(columns=['tweetId', 'userId'])\n",
    "print(data_raw.columns)"
   ]
  },
  {
   "cell_type": "markdown",
   "metadata": {},
   "source": [
    "Now be interesting to see how we could use timestamp. Do tweets are a certain time be more likely to be fake or real? Do fake tweets come in a large dump or do real and fake tweets happen simulataneously as we are looking at tweets about real time events? "
   ]
  },
  {
   "cell_type": "code",
   "execution_count": 155,
   "metadata": {},
   "outputs": [
    {
     "name": "stdout",
     "output_type": "stream",
     "text": [
      "0          Mon Oct 29 22:34:01 +0000 2012\n",
      "1          Mon Oct 29 19:11:23 +0000 2012\n",
      "2          Mon Oct 29 18:11:08 +0000 2012\n",
      "3          Mon Oct 29 19:15:33 +0000 2012\n",
      "4          Mon Oct 29 20:46:02 +0000 2012\n",
      "                       ...               \n",
      "14272    Tue Mar 11 03: 48: 36 +0000 2014\n",
      "14273    Mon Mar 10 18: 09: 26 +0000 2014\n",
      "14274    Mon Mar 10 10: 59: 45 +0000 2014\n",
      "14275    Sun Mar 09 20: 07: 10 +0000 2014\n",
      "14276    Sun Mar 09 16: 36: 09 +0000 2014\n",
      "Name: timestamp, Length: 14276, dtype: object\n"
     ]
    }
   ],
   "source": [
    "# example: Tue Mar 11 23: 59: 22 +0000 2014\n",
    "# Mon Oct 29 20:46:02 +0000 2012\n",
    "\n",
    "print(data_raw['timestamp'])"
   ]
  },
  {
   "cell_type": "markdown",
   "metadata": {},
   "source": [
    "These are going to be quite difficult to handle so I will look to come back to them. I would look to bin the time of the day, day of the week, month. These are unlikely, in this context, to have much bearing on whether a tweet is real or fake but would definetly be interesting to investigate. I will drop the column for now until I have a basic model up and running then if the perfromance is not high enough then I will come back"
   ]
  },
  {
   "cell_type": "code",
   "execution_count": 156,
   "metadata": {},
   "outputs": [
    {
     "name": "stdout",
     "output_type": "stream",
     "text": [
      "                                           tweetText      imageId(s)  \\\n",
      "0  ¿Se acuerdan de la película: “El día después d...  sandyA_fake_46   \n",
      "1  @milenagimon: Miren a Sandy en NY!  Tremenda i...  sandyA_fake_09   \n",
      "2  Buena la foto del Huracán Sandy, me recuerda a...  sandyA_fake_09   \n",
      "3     Scary shit #hurricane #NY http://t.co/e4JLBUfH  sandyA_fake_29   \n",
      "4  My fave place in the world #nyc #hurricane #sa...  sandyA_fake_15   \n",
      "\n",
      "         username label  \n",
      "0         iAnnieM  fake  \n",
      "1  CarlosVerareal  fake  \n",
      "2     LucasPalape  fake  \n",
      "3     Haaaaarryyy  fake  \n",
      "4  princess__natt  fake  \n"
     ]
    }
   ],
   "source": [
    "data_raw = data_raw.drop(columns=['timestamp'])\n",
    "print(data_raw.head())"
   ]
  },
  {
   "cell_type": "code",
   "execution_count": 157,
   "metadata": {},
   "outputs": [
    {
     "name": "stdout",
     "output_type": "stream",
     "text": [
      "Index(['tweetText', 'imageId(s)', 'username', 'label'], dtype='object')\n"
     ]
    }
   ],
   "source": [
    "print(data_raw.columns)"
   ]
  },
  {
   "cell_type": "markdown",
   "metadata": {},
   "source": [
    "Will now move onto imageId to split on '_'s as the label is often in the middle"
   ]
  },
  {
   "cell_type": "code",
   "execution_count": 158,
   "metadata": {},
   "outputs": [
    {
     "name": "stdout",
     "output_type": "stream",
     "text": [
      "Counter({'fake': 9287, 'real': 4920, '02': 47, '01': 18, '03': 3, '04': 1})\n",
      "Counter({3: 14078, 5: 121, 2: 69, 7: 6, 9: 1, 11: 1})\n"
     ]
    }
   ],
   "source": [
    "from collections import Counter\n",
    "data_raw['imageMiddle'] = data_raw['imageId(s)'].str.split('_')\n",
    "print(Counter([x[1] for x in data_raw['imageMiddle']]))\n",
    "print(Counter([len(x) for x in data_raw['imageMiddle']]))"
   ]
  },
  {
   "cell_type": "markdown",
   "metadata": {},
   "source": [
    "The majority of imageId(s)'s do contain the world real or fake but not all. Also, not all contain underscores and if they do they are of different lengths. To solve this we could build a function that checks if the imageId contains the word real or fake and then have that as the column, if it contains neither then have a default value. "
   ]
  },
  {
   "cell_type": "code",
   "execution_count": 159,
   "metadata": {},
   "outputs": [],
   "source": [
    "def map_image_id(id: str):\n",
    "    if \"real\" in id:\n",
    "        return \"real\"\n",
    "    elif \"fake\" in id:\n",
    "        return \"fake\"\n",
    "    else:\n",
    "        return \"neither\""
   ]
  },
  {
   "cell_type": "code",
   "execution_count": 160,
   "metadata": {},
   "outputs": [
    {
     "name": "stdout",
     "output_type": "stream",
     "text": [
      "fake       9287\n",
      "real       4920\n",
      "neither      69\n",
      "Name: image_label, dtype: int64\n"
     ]
    }
   ],
   "source": [
    "data_raw['image_label'] = data_raw['imageId(s)'].apply(lambda row: map_image_id(row))\n",
    "print(data_raw['image_label'].value_counts())"
   ]
  },
  {
   "cell_type": "code",
   "execution_count": 161,
   "metadata": {},
   "outputs": [
    {
     "data": {
      "text/plain": [
       "<AxesSubplot:xlabel='image_label', ylabel='count'>"
      ]
     },
     "execution_count": 161,
     "metadata": {},
     "output_type": "execute_result"
    },
    {
     "data": {
      "image/png": "[encoded data removed]",
      "text/plain": [
       "<Figure size 720x576 with 1 Axes>"
      ]
     },
     "metadata": {},
     "output_type": "display_data"
    }
   ],
   "source": [
    "sns.set(rc={'figure.figsize':(10,8)})\n",
    "sns.countplot(x=\"image_label\", hue='label', data=data_raw)"
   ]
  },
  {
   "cell_type": "markdown",
   "metadata": {},
   "source": [
    "We can see that this feature is almost directly related to the label.\n",
    "\n",
    "The only problem here is that we are removing all other information from the imageId that could be potentially be useful such as the event ('sandy').\n",
    "NEXT STAGE - can we generate a column that has more than fake and real. FIRST need to compare if the labels directly map to the result. "
   ]
  },
  {
   "cell_type": "code",
   "execution_count": 162,
   "metadata": {},
   "outputs": [
    {
     "name": "stdout",
     "output_type": "stream",
     "text": [
      "Counter({'sandyA': 9695, 'fake': 9397, 'real': 4950, 'sandyB': 2622, 'boston': 546, 'malaysia': 501, 'sochi': 402, 'columbianChemicals': 185, 'bringback': 131, 'underwater': 112, '03,boston': 99, 'passport': 46, 'pigFish': 14, 'elephant': 13, '06,boston': 12, 'livr': 9, '01,boston': 7, '04,boston': 6, '16,boston': 5, '02,boston': 4, '07,boston': 2, '05,boston': 1, '10,boston': 1, '24,boston': 1, '18,boston': 1, '27,boston': 1, '1fake': 1})\n"
     ]
    }
   ],
   "source": [
    "parts = [p for x in data_raw['imageId(s)'].str.split('_').to_list() for p in x if not p.isnumeric()]\n",
    "c = Counter(parts)\n",
    "print(c)"
   ]
  },
  {
   "cell_type": "code",
   "execution_count": 163,
   "metadata": {},
   "outputs": [
    {
     "name": "stdout",
     "output_type": "stream",
     "text": [
      "{'sandyA': 9695, 'sandyB': 2622, 'boston': 686, 'columbianChemicals': 185, 'bringback': 131, 'passport': 46, 'underwater': 112, 'sochi': 402, 'malaysia': 501}\n"
     ]
    }
   ],
   "source": [
    "to_del = ['real', 'fake']\n",
    "for x, count in c.items():\n",
    "    if 'boston' in x and not x == 'boston':\n",
    "        c['boston'] += count\n",
    "        to_del.append(x)\n",
    "    elif count < 20:\n",
    "        to_del.append(x)\n",
    "\n",
    "c = {x: count for x, count in c.items() if x not in to_del}\n",
    "print(c)"
   ]
  },
  {
   "cell_type": "markdown",
   "metadata": {},
   "source": [
    "After a bit of filtering we can see that although there are a high value of fake and real labels in the images but there are also a high numner of location based labels = [sandyA, sandyB, boston, sochi, malaysia]. We can create another column for location as well as real/fake, THEN do a plot to see how these new features correspond to real/fake labels. "
   ]
  },
  {
   "cell_type": "code",
   "execution_count": 164,
   "metadata": {},
   "outputs": [],
   "source": [
    "def map_image_place(id: str):\n",
    "    if \"sandyA\" in id:\n",
    "        return \"sandyA\"\n",
    "    elif \"sandyB\" in id:\n",
    "        return \"sandyB\"\n",
    "    elif \"boston\" in id:\n",
    "        return \"boston\"\n",
    "    elif \"sochi\" in id:\n",
    "        return \"sochi\"\n",
    "    elif \"malaysia\" in id:\n",
    "        return \"malaysia\"\n",
    "    else:\n",
    "        return \"none\""
   ]
  },
  {
   "cell_type": "code",
   "execution_count": 165,
   "metadata": {},
   "outputs": [
    {
     "name": "stdout",
     "output_type": "stream",
     "text": [
      "sandyA      9695\n",
      "sandyB      2622\n",
      "boston       546\n",
      "none         510\n",
      "malaysia     501\n",
      "sochi        402\n",
      "Name: image_place, dtype: int64\n"
     ]
    }
   ],
   "source": [
    "data_raw['image_place'] = data_raw['imageId(s)'].apply(lambda row: map_image_place(row))\n",
    "print(data_raw['image_place'].value_counts())"
   ]
  },
  {
   "cell_type": "code",
   "execution_count": 166,
   "metadata": {},
   "outputs": [
    {
     "data": {
      "text/plain": [
       "<AxesSubplot:xlabel='image_place', ylabel='count'>"
      ]
     },
     "execution_count": 166,
     "metadata": {},
     "output_type": "execute_result"
    },
    {
     "data": {
      "image/png": "[encoded data removed]",
      "text/plain": [
       "<Figure size 720x576 with 1 Axes>"
      ]
     },
     "metadata": {},
     "output_type": "display_data"
    }
   ],
   "source": [
    "sns.countplot(x=\"image_place\", hue='label', data=data_raw)"
   ]
  },
  {
   "cell_type": "markdown",
   "metadata": {},
   "source": [
    "Again this new feature looks to be very usefull, every new catergory seems to be very telling. We can also map the values that are not sandyA/B or boston as all other categories contain only fake tweets. "
   ]
  },
  {
   "cell_type": "code",
   "execution_count": 167,
   "metadata": {},
   "outputs": [],
   "source": [
    "def map_image_place2(id: str):\n",
    "    if \"sandyA\" in id:\n",
    "        return \"sandyA\"\n",
    "    elif \"sandyB\" in id:\n",
    "        return \"sandyB\"\n",
    "    elif \"boston\" in id:\n",
    "        return \"boston\"\n",
    "    else:\n",
    "        return \"none\""
   ]
  },
  {
   "cell_type": "code",
   "execution_count": 168,
   "metadata": {},
   "outputs": [
    {
     "name": "stdout",
     "output_type": "stream",
     "text": [
      "sandyA    9695\n",
      "sandyB    2622\n",
      "none      1413\n",
      "boston     546\n",
      "Name: image_place, dtype: int64\n"
     ]
    }
   ],
   "source": [
    "data_raw['image_place'] = data_raw['imageId(s)'].apply(lambda row: map_image_place2(row))\n",
    "print(data_raw['image_place'].value_counts())"
   ]
  },
  {
   "cell_type": "code",
   "execution_count": 169,
   "metadata": {},
   "outputs": [
    {
     "data": {
      "text/plain": [
       "<AxesSubplot:xlabel='image_place', ylabel='count'>"
      ]
     },
     "execution_count": 169,
     "metadata": {},
     "output_type": "execute_result"
    },
    {
     "data": {
      "image/png": "[encoded data removed]",
      "text/plain": [
       "<Figure size 720x576 with 1 Axes>"
      ]
     },
     "metadata": {},
     "output_type": "display_data"
    }
   ],
   "source": [
    "sns.countplot(x=\"image_place\", hue='label', data=data_raw)"
   ]
  },
  {
   "cell_type": "markdown",
   "metadata": {},
   "source": [
    "If we create a model from just the above two features with XGBoost how good is the model. Is it even worth adding in the text data? In the context of a real world example then we would as the images won't always be labeled in this way so we should start with a model on these labels and then move on to handling the tweet text data"
   ]
  },
  {
   "cell_type": "code",
   "execution_count": 170,
   "metadata": {},
   "outputs": [
    {
     "data": {
      "text/plain": [
       "Index(['tweetText', 'imageId(s)', 'username', 'label', 'imageMiddle',\n",
       "       'image_label', 'image_place'],\n",
       "      dtype='object')"
      ]
     },
     "execution_count": 170,
     "metadata": {},
     "output_type": "execute_result"
    }
   ],
   "source": [
    "data_raw.columns"
   ]
  },
  {
   "cell_type": "code",
   "execution_count": 171,
   "metadata": {},
   "outputs": [],
   "source": [
    "# create a transformer to add convert the image labels and return a dataframe with them in\n",
    "\n",
    "def map_image_place(id: str):\n",
    "    if \"sandyA\" in id:\n",
    "        return \"sandyA\"\n",
    "    elif \"sandyB\" in id:\n",
    "        return \"sandyB\"\n",
    "    elif \"boston\" in id:\n",
    "        return \"boston\"\n",
    "    else:\n",
    "        return \"none\"\n",
    "\n",
    "def map_image_label(id: str):\n",
    "    if \"real\" in id:\n",
    "        return \"real\"\n",
    "    elif \"fake\" in id:\n",
    "        return \"fake\"\n",
    "    else:\n",
    "        return \"neither\"\n",
    "\n",
    "\n",
    "from sklearn.base import BaseEstimator, TransformerMixin\n",
    "\n",
    "class SeparateImageIdInfoAdder(BaseEstimator, TransformerMixin):\n",
    "    def __init__(self) -> None:\n",
    "        super().__init__()\n",
    "    def fit(self, X, y=None):\n",
    "        return self\n",
    "    def transform(self, X):\n",
    "        image_place = X['imageId(s)'].apply(lambda row: map_image_place(row))\n",
    "        image_label = X['imageId(s)'].apply(lambda row: map_image_label(row))\n",
    "        return np.c_[X, image_place, image_label]\n",
    "\n",
    "\n",
    "class HumorLabelTransformer(BaseEstimator, TransformerMixin):\n",
    "    def __init__(self) -> None:\n",
    "        super().__init__()\n",
    "    def fit(self, X, y=None):\n",
    "        return self\n",
    "    def transform(self, X):\n",
    "        label = data_raw['label'].replace({'humor':'fake'})\n",
    "        return np.c_[X, label]\n"
   ]
  },
  {
   "cell_type": "code",
   "execution_count": 172,
   "metadata": {},
   "outputs": [],
   "source": [
    "imageAdder = SeparateImageIdInfoAdder()\n",
    "sep_image_attribs = imageAdder.transform(strat_train_set)"
   ]
  },
  {
   "cell_type": "code",
   "execution_count": 173,
   "metadata": {},
   "outputs": [
    {
     "data": {
      "text/html": [
       "<div>\n",
       "<style scoped>\n",
       "    .dataframe tbody tr th:only-of-type {\n",
       "        vertical-align: middle;\n",
       "    }\n",
       "\n",
       "    .dataframe tbody tr th {\n",
       "        vertical-align: top;\n",
       "    }\n",
       "\n",
       "    .dataframe thead th {\n",
       "        text-align: right;\n",
       "    }\n",
       "</style>\n",
       "<table border=\"1\" class=\"dataframe\">\n",
       "  <thead>\n",
       "    <tr style=\"text-align: right;\">\n",
       "      <th></th>\n",
       "      <th>tweetId</th>\n",
       "      <th>tweetText</th>\n",
       "      <th>userId</th>\n",
       "      <th>imageId(s)</th>\n",
       "      <th>username</th>\n",
       "      <th>timestamp</th>\n",
       "      <th>label</th>\n",
       "      <th>image_place</th>\n",
       "      <th>image_label</th>\n",
       "    </tr>\n",
       "  </thead>\n",
       "  <tbody>\n",
       "    <tr>\n",
       "      <th>1058</th>\n",
       "      <td>263116481687085056</td>\n",
       "      <td>#PrayForUSA #Sandy http://t.co/XzfGgCGX</td>\n",
       "      <td>263774008</td>\n",
       "      <td>sandyA_fake_29</td>\n",
       "      <td>waraujo1983</td>\n",
       "      <td>Tue Oct 30 03:13:52 +0000 2012</td>\n",
       "      <td>fake</td>\n",
       "      <td>sandyA</td>\n",
       "      <td>fake</td>\n",
       "    </tr>\n",
       "    <tr>\n",
       "      <th>13105</th>\n",
       "      <td>464848098859048960</td>\n",
       "      <td>Cele4love2007:Let's get it on! Act 1 Scene 1! ...</td>\n",
       "      <td>354742896</td>\n",
       "      <td>bringback_fake_04</td>\n",
       "      <td>cele4love2007</td>\n",
       "      <td>Fri May 09 19:23:17 +0000 2014</td>\n",
       "      <td>fake</td>\n",
       "      <td>none</td>\n",
       "      <td>fake</td>\n",
       "    </tr>\n",
       "    <tr>\n",
       "      <th>1591</th>\n",
       "      <td>262999083365588992</td>\n",
       "      <td>Waiting for #Sandy to make landfall. Three hou...</td>\n",
       "      <td>23613932</td>\n",
       "      <td>sandyA_fake_17</td>\n",
       "      <td>fer_twitts</td>\n",
       "      <td>Mon Oct 29 19:27:22 +0000 2012</td>\n",
       "      <td>fake</td>\n",
       "      <td>sandyA</td>\n",
       "      <td>fake</td>\n",
       "    </tr>\n",
       "    <tr>\n",
       "      <th>13968</th>\n",
       "      <td>448061307724378112</td>\n",
       "      <td>Malaysia Airlines ad a few years ago! Ironic T...</td>\n",
       "      <td>1029798690</td>\n",
       "      <td>malaysia_fake_21</td>\n",
       "      <td>nurani49v</td>\n",
       "      <td>Mon Mar 24 11:38:35 +0000 2014</td>\n",
       "      <td>fake</td>\n",
       "      <td>none</td>\n",
       "      <td>fake</td>\n",
       "    </tr>\n",
       "    <tr>\n",
       "      <th>1215</th>\n",
       "      <td>263250268861370369</td>\n",
       "      <td>#sandy #newyork ¬ http://t.co/ilv9a2NN (via @J...</td>\n",
       "      <td>35703535</td>\n",
       "      <td>sandyA_fake_23</td>\n",
       "      <td>PaulinaStrange</td>\n",
       "      <td>Tue Oct 30 12:05:29 +0000 2012</td>\n",
       "      <td>fake</td>\n",
       "      <td>sandyA</td>\n",
       "      <td>fake</td>\n",
       "    </tr>\n",
       "  </tbody>\n",
       "</table>\n",
       "</div>"
      ],
      "text/plain": [
       "                  tweetId                                          tweetText  \\\n",
       "1058   263116481687085056            #PrayForUSA #Sandy http://t.co/XzfGgCGX   \n",
       "13105  464848098859048960  Cele4love2007:Let's get it on! Act 1 Scene 1! ...   \n",
       "1591   262999083365588992  Waiting for #Sandy to make landfall. Three hou...   \n",
       "13968  448061307724378112  Malaysia Airlines ad a few years ago! Ironic T...   \n",
       "1215   263250268861370369  #sandy #newyork ¬ http://t.co/ilv9a2NN (via @J...   \n",
       "\n",
       "           userId         imageId(s)        username  \\\n",
       "1058    263774008     sandyA_fake_29     waraujo1983   \n",
       "13105   354742896  bringback_fake_04   cele4love2007   \n",
       "1591     23613932     sandyA_fake_17      fer_twitts   \n",
       "13968  1029798690   malaysia_fake_21       nurani49v   \n",
       "1215     35703535     sandyA_fake_23  PaulinaStrange   \n",
       "\n",
       "                            timestamp label image_place image_label  \n",
       "1058   Tue Oct 30 03:13:52 +0000 2012  fake      sandyA        fake  \n",
       "13105  Fri May 09 19:23:17 +0000 2014  fake        none        fake  \n",
       "1591   Mon Oct 29 19:27:22 +0000 2012  fake      sandyA        fake  \n",
       "13968  Mon Mar 24 11:38:35 +0000 2014  fake        none        fake  \n",
       "1215   Tue Oct 30 12:05:29 +0000 2012  fake      sandyA        fake  "
      ]
     },
     "execution_count": 173,
     "metadata": {},
     "output_type": "execute_result"
    }
   ],
   "source": [
    "data_extra_attribs = pd.DataFrame(sep_image_attribs, \n",
    "    columns=list(strat_train_set.columns) + [\"image_place\", \"image_label\"],\n",
    "    index=strat_train_set.index)\n",
    "data_extra_attribs.head()"
   ]
  },
  {
   "cell_type": "markdown",
   "metadata": {},
   "source": [
    "We have our transformer to add in our new features but we also need a transformer to drop the ones we don't need (username, userId, imageId, tweetId, timestamp)"
   ]
  },
  {
   "cell_type": "code",
   "execution_count": 174,
   "metadata": {},
   "outputs": [],
   "source": [
    "class DropColumns(BaseEstimator, TransformerMixin):\n",
    "\n",
    "    def __init__(self):\n",
    "        super().__init__()\n",
    "\n",
    "    def fit(self, X, y = None):\n",
    "        return self\n",
    "\n",
    "    def transform(self, X:pd.DataFrame, drop_cols):\n",
    "        keep_cols = [col for col in X.columns if col not in drop_cols]\n",
    "        return X.copy()[keep_cols]"
   ]
  },
  {
   "cell_type": "code",
   "execution_count": 175,
   "metadata": {},
   "outputs": [],
   "source": [
    "def add_drop_columns(df, drop_cols):\n",
    "    imageAdder = SeparateImageIdInfoAdder()\n",
    "    sep_image_attribs = imageAdder.transform(df)\n",
    "    data_extra_attribs = pd.DataFrame(sep_image_attribs, \n",
    "        columns=list(df.columns) + [\"image_place\", \"image_label\"],\n",
    "        index=df.index)\n",
    "    dropper = DropColumns()\n",
    "    data_stripped = dropper.transform(data_extra_attribs, drop_cols)\n",
    "    return data_stripped"
   ]
  },
  {
   "cell_type": "code",
   "execution_count": 176,
   "metadata": {},
   "outputs": [],
   "source": [
    "from sklearn.preprocessing import OneHotEncoder, LabelEncoder\n",
    "\n",
    "def transform_dataframe(df, drop_cols, hot_encoder, label_encoder, test=False):\n",
    "    \n",
    "\n",
    "    df['label'] = df['label'].replace({'humor':'fake'})\n",
    "    data_labels = df[\"label\"].copy()\n",
    "\n",
    "    df = add_drop_columns(df, drop_cols)\n",
    "    df = df.drop(\"label\", axis=1)\n",
    "\n",
    "    if not test:\n",
    "        X = hot_encoder.fit_transform(df[[\"image_place\", \"image_label\"]])\n",
    "        y = label_encoder.fit_transform(data_labels)\n",
    "    else:\n",
    "        X = hot_encoder.transform(df[[\"image_place\", \"image_label\"]])\n",
    "        y = label_encoder.transform(data_labels)\n",
    "\n",
    "    return X, y\n"
   ]
  },
  {
   "cell_type": "code",
   "execution_count": 177,
   "metadata": {},
   "outputs": [],
   "source": [
    "drop_cols = [\"tweetId\", \"tweetText\", \"userId\", \"imageId(s)\", \"timestamp\", \"username\"]\n",
    "oneHot = OneHotEncoder()\n",
    "label = LabelEncoder()\n",
    "\n",
    "train_X, train_y = transform_dataframe(strat_train_set, drop_cols, oneHot, label)\n",
    "test_X, test_y = transform_dataframe(strat_test_set, drop_cols, oneHot, label)"
   ]
  },
  {
   "cell_type": "markdown",
   "metadata": {},
   "source": [
    "# Fitting first model on very simple data"
   ]
  },
  {
   "cell_type": "code",
   "execution_count": 178,
   "metadata": {},
   "outputs": [
    {
     "data": {
      "text/plain": [
       "SVC()"
      ]
     },
     "execution_count": 178,
     "metadata": {},
     "output_type": "execute_result"
    }
   ],
   "source": [
    "from sklearn.svm import SVC\n",
    "\n",
    "svc = SVC()\n",
    "svc.fit(train_X, train_y)"
   ]
  },
  {
   "cell_type": "code",
   "execution_count": 179,
   "metadata": {},
   "outputs": [
    {
     "name": "stdout",
     "output_type": "stream",
     "text": [
      "[1 1 0 ... 1 1 0]\n",
      "[1 1 0 ... 1 1 0]\n",
      "1.0\n",
      "1.0\n"
     ]
    }
   ],
   "source": [
    "from sklearn.metrics import f1_score, accuracy_score\n",
    "pred = svc.predict(test_X)\n",
    "print(pred)\n",
    "print(test_y)\n",
    "print(f1_score(test_y, pred))\n",
    "print(accuracy_score(test_y, pred))"
   ]
  },
  {
   "cell_type": "markdown",
   "metadata": {},
   "source": [
    "It appears this model is perfect, but this seems to good to be true, which mean it probably is... Will need to look into it and find out why"
   ]
  },
  {
   "cell_type": "code",
   "execution_count": 181,
   "metadata": {},
   "outputs": [
    {
     "name": "stdout",
     "output_type": "stream",
     "text": [
      "[0 0 0 ... 0 0 0]\n",
      "[1 1 0 ... 1 1 0]\n"
     ]
    }
   ],
   "source": [
    "print(train_y)\n",
    "print(test_y)"
   ]
  },
  {
   "cell_type": "markdown",
   "metadata": {},
   "source": []
  },
  {
   "cell_type": "markdown",
   "metadata": {},
   "source": [
    "I think it might be as 100% as the image label often does contain the true label and if not the city it contains can be used with fairly high accuracy to predict. Therefore I think this is a poor challenge and I think I should spend my time looking at another challenge. I hope to come back to this project with more experience to truley identify if there is a bug or if the model is 100% accurate - this could be done with using cross validation and not using stratified split data. "
   ]
  }
 ],
 "metadata": {
  "interpreter": {
   "hash": "95f1bd513179ec155b64d390ddcc9bcad71f0907251713515d1de287f8f762de"
  },
  "kernelspec": {
   "display_name": "Python 3.7.11 64-bit ('base': conda)",
   "language": "python",
   "name": "python3"
  },
  "language_info": {
   "codemirror_mode": {
    "name": "ipython",
    "version": 3
   },
   "file_extension": ".py",
   "mimetype": "text/x-python",
   "name": "python",
   "nbconvert_exporter": "python",
   "pygments_lexer": "ipython3",
   "version": "3.7.11"
  },
  "orig_nbformat": 4
 },
 "nbformat": 4,
 "nbformat_minor": 2
}
