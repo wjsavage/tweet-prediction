{
 "cells": [
  {
   "cell_type": "markdown",
   "metadata": {},
   "source": [
    "# Initial thoughts \n",
    "### Things done well:\n",
    "- This was my first proper ML project where I achieved a high accuracy compared to my peers\n",
    "- I spent a high amount of time on the project and it really started my passion for ML#\n",
    "- I learnt many skills such as handling different types of data, data processing, trying and improving different models, tf-idf, dimensionality reduction\n",
    "\n",
    "### Improvements:\n",
    "- I spent most of the time trying to increasing my training score as high as possible which is bad as this clearly leads to overfitting\n",
    "- My inital data exploration and subsquent visualisations were poor\n",
    "- I used a bazaar versioning system rather than Jupyter notebooks\n",
    "- I didnt structure my work very well and the explainations were more a stream of thoughts. \n",
    "\n",
    "# We start again\n",
    "\n",
    "## Frame the problem\n",
    "The problem is that we want to be able to take a tweet about a live news story and give a classification as to whether the contents of the message is real or fake. Such a system would be used by a news company to increase their confidence that any tweets they post in their articles are geniune. \n",
    "\n",
    "A current system would require a journalist to go through each individual tweet and make a decision themselves. With this system a list of refined real tweets could be presented to the journalist.\n",
    "\n",
    "It is a supervised offline classification problem where the perfromance is measured by F1 score - the higher the score the more we can trust that a tweet classified as real is a genuine source that can be included in a report\n",
    "\n"
   ]
  }
 ],
 "metadata": {
  "interpreter": {
   "hash": "95f1bd513179ec155b64d390ddcc9bcad71f0907251713515d1de287f8f762de"
  },
  "kernelspec": {
   "display_name": "Python 3.7.11 64-bit ('base': conda)",
   "language": "python",
   "name": "python3"
  },
  "language_info": {
   "name": "python",
   "version": "3.7.11"
  },
  "orig_nbformat": 4
 },
 "nbformat": 4,
 "nbformat_minor": 2
}
