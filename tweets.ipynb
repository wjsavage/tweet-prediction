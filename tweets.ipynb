{
 "cells": [
  {
   "cell_type": "markdown",
   "metadata": {},
   "source": [
    "# Initial thoughts \n",
    "### Things done well:\n",
    "- This was my first proper ML project where I achieved a high accuracy compared to my peers\n",
    "- I spent a high amount of time on the project and it really started my passion for ML#\n",
    "- I learnt many skills such as handling different types of data, data processing, trying and improving different models, tf-idf, dimensionality reduction\n",
    "\n",
    "### Improvements:\n",
    "- I spent most of the time trying to increasing my training score as high as possible which is bad as this clearly leads to overfitting\n",
    "- My inital data exploration and subsquent visualisations were poor\n",
    "- I used a bazaar versioning system rather than Jupyter notebooks\n",
    "- I didnt structure my work very well and the explainations were more a stream of thoughts. \n",
    "\n",
    "# We start again\n",
    "\n",
    "## Frame the problem\n",
    "The problem is that we want to be able to take a tweet about a live news story and give a classification as to whether the contents of the message is real or fake. Such a system would be used by a news company to increase their confidence that any tweets they post in their articles are geniune. \n",
    "\n",
    "A current system would require a journalist to go through each individual tweet and make a decision themselves. With this system a list of refined real tweets could be presented to the journalist.\n",
    "\n",
    "It is a supervised offline classification problem where the perfromance is measured by F1 score - the higher the score the more we can trust that a tweet classified as real is a genuine source that can be included in a report\n",
    "\n",
    "I do have my previous system that I could reuse but I won't as in this project I am not looking for high performance but rather a well strucuted notebook with insights and graphs that give reason to my decision making. The only expertise available is my own real world experince of using twitter and seeing how fake tweets are often used by trolls. \n",
    "\n",
    "The minimum perfromance needed to add value is unknown, if we can produce a system that 9/10 gives a correct prediction then this is likely to be useful. \n",
    "\n",
    "The project contains tweet text data for which there are similiar projects avaible that could be looked at for inspiration.\n",
    "\n",
    "\n",
    "## Get the data\n",
    "\n",
    "Data is provided as part of the coursework. The data is real world tweets collected about Hurricane Sandy that hit the US in late 2012\n",
    "\n",
    "## Explore the data"
   ]
  },
  {
   "cell_type": "code",
   "execution_count": 25,
   "metadata": {},
   "outputs": [],
   "source": [
    "# Python ≥3.5 is required\n",
    "import sys\n",
    "assert sys.version_info >= (3, 5)\n",
    "\n",
    "# Scikit-Learn ≥0.20 is required\n",
    "import sklearn\n",
    "assert sklearn.__version__ >= \"0.20\"\n",
    "\n",
    "# Common imports\n",
    "import numpy as np\n",
    "import os\n",
    "import pandas as pd\n",
    "# To plot pretty figures\n",
    "%matplotlib inline\n",
    "import matplotlib as mpl\n",
    "import matplotlib.pyplot as plt\n",
    "mpl.rc('axes', labelsize=14)\n",
    "mpl.rc('xtick', labelsize=12)\n",
    "mpl.rc('ytick', labelsize=12)"
   ]
  },
  {
   "cell_type": "code",
   "execution_count": 26,
   "metadata": {},
   "outputs": [],
   "source": [
    "data_raw = pd.read_csv(\"data/mediaeval-2015-trainingset.txt\", sep='\\t')"
   ]
  },
  {
   "cell_type": "code",
   "execution_count": 27,
   "metadata": {},
   "outputs": [
    {
     "name": "stdout",
     "output_type": "stream",
     "text": [
      "<class 'pandas.core.frame.DataFrame'>\n",
      "RangeIndex: 14277 entries, 0 to 14276\n",
      "Data columns (total 7 columns):\n",
      " #   Column      Non-Null Count  Dtype \n",
      "---  ------      --------------  ----- \n",
      " 0   tweetId     14277 non-null  int64 \n",
      " 1   tweetText   14277 non-null  object\n",
      " 2   userId      14277 non-null  int64 \n",
      " 3   imageId(s)  14277 non-null  object\n",
      " 4   username    14277 non-null  object\n",
      " 5   timestamp   14277 non-null  object\n",
      " 6   label       14277 non-null  object\n",
      "dtypes: int64(2), object(5)\n",
      "memory usage: 780.9+ KB\n"
     ]
    }
   ],
   "source": [
    "data_raw.info()"
   ]
  },
  {
   "cell_type": "markdown",
   "metadata": {},
   "source": [
    "Straight away we can see all of the columns and that it appears we do not have any null vlaues. We have two int columns (tweetId and userId) and then 5 object columns. Both int columns are Id's so there is limited (if any) data inspection we can do here. We could look for duplicates"
   ]
  },
  {
   "cell_type": "code",
   "execution_count": 28,
   "metadata": {},
   "outputs": [],
   "source": [
    "num_attribs = ['tweetId', 'userId']\n",
    "obj_attribs = [x for x in data_raw.columns if x not in num_attribs]"
   ]
  },
  {
   "cell_type": "code",
   "execution_count": 29,
   "metadata": {},
   "outputs": [
    {
     "name": "stdout",
     "output_type": "stream",
     "text": [
      "139189262     16.0\n",
      "834560797     10.0\n",
      "357078809      9.0\n",
      "89221442       8.0\n",
      "2623669827     8.0\n",
      "              ... \n",
      "392302245      2.0\n",
      "464045416      2.0\n",
      "339187255      2.0\n",
      "244344102      2.0\n",
      "31322164       2.0\n",
      "Name: userId, Length: 551, dtype: float64\n"
     ]
    }
   ],
   "source": [
    "users_with_more = data_raw['userId'].value_counts().where(lambda x : x > 1).dropna()\n",
    "print(users_with_more)"
   ]
  },
  {
   "cell_type": "markdown",
   "metadata": {},
   "source": [
    "There are 551 users that appear more than once but will not include 'userId' as a training attribute. This makes sense as this could lead to a model overfitting in the real world. For instance if the model learns that one users tweets are always real and then in practice the system has a fake input from this user it could get passed to the journalist and defeat the goal of the system. However, it could be argued that identifying accounts that are reputable sources or not could be used, this would have to be something to go back to the product owner to discuss. \n",
    "\n",
    "We will also look at tweetId in a similar way"
   ]
  },
  {
   "cell_type": "code",
   "execution_count": 30,
   "metadata": {},
   "outputs": [
    {
     "name": "stdout",
     "output_type": "stream",
     "text": [
      "264736470089216000    2.0\n",
      "263351427320131584    2.0\n",
      "Name: tweetId, dtype: float64\n",
      "[264736470089216000, 263351427320131584]\n"
     ]
    }
   ],
   "source": [
    "tweets_with_more = data_raw['tweetId'].value_counts().where(lambda x : x > 1).dropna()\n",
    "tweetIds = tweets_with_more.keys().tolist()\n",
    "print(tweets_with_more)\n",
    "print(tweetIds)"
   ]
  },
  {
   "cell_type": "code",
   "execution_count": 31,
   "metadata": {},
   "outputs": [
    {
     "name": "stdout",
     "output_type": "stream",
     "text": [
      "                  tweetId                                          tweetText  \\\n",
      "2439   264736470089216000  Lower Manhattan's power is gone. Pretty eerie ...   \n",
      "7744   263351427320131584            Ground Zero #Sandy http://t.co/KA1jNv3I   \n",
      "7821   263351427320131584            Ground Zero #Sandy http://t.co/KA1jNv3I   \n",
      "11947  264736470089216000  Lower Manhattan's power is gone. Pretty eerie ...   \n",
      "\n",
      "         userId      imageId(s)      username                       timestamp  \\\n",
      "2439    2675041  sandyB_fake_11         cDima  Sat Nov 03 14:31:07 +0000 2012   \n",
      "7744   15933769  sandyA_real_04  AngelaYvonne  Tue Oct 30 18:47:27 +0000 2012   \n",
      "7821   15933769  sandyA_real_04  AngelaYvonne  Tue Oct 30 18:47:27 +0000 2012   \n",
      "11947   2675041  sandyB_real_54         cDima  Sat Nov 03 14:31:07 +0000 2012   \n",
      "\n",
      "      label  \n",
      "2439   fake  \n",
      "7744   real  \n",
      "7821   real  \n",
      "11947  real  \n"
     ]
    }
   ],
   "source": [
    "print(data_raw[data_raw['tweetId'].isin(tweetIds)])"
   ]
  },
  {
   "cell_type": "markdown",
   "metadata": {},
   "source": [
    "The 'Ground zero' tweets are identical with both having 'real' labels. However, for the 'Lower Manhattan's' tweets one is real and one is fake; the only difference is their imageId(s). We can gain insight here that some of the imageId's actually contain the correct label for the tweet. We can make a feature out of this."
   ]
  },
  {
   "cell_type": "code",
   "execution_count": 32,
   "metadata": {},
   "outputs": [
    {
     "name": "stdout",
     "output_type": "stream",
     "text": [
      "                  tweetId                                          tweetText  \\\n",
      "2439   264736470089216000  Lower Manhattan's power is gone. Pretty eerie ...   \n",
      "7744   263351427320131584            Ground Zero #Sandy http://t.co/KA1jNv3I   \n",
      "11947  264736470089216000  Lower Manhattan's power is gone. Pretty eerie ...   \n",
      "\n",
      "         userId      imageId(s)      username                       timestamp  \\\n",
      "2439    2675041  sandyB_fake_11         cDima  Sat Nov 03 14:31:07 +0000 2012   \n",
      "7744   15933769  sandyA_real_04  AngelaYvonne  Tue Oct 30 18:47:27 +0000 2012   \n",
      "11947   2675041  sandyB_real_54         cDima  Sat Nov 03 14:31:07 +0000 2012   \n",
      "\n",
      "      label  \n",
      "2439   fake  \n",
      "7744   real  \n",
      "11947  real  \n"
     ]
    }
   ],
   "source": [
    "data_raw = data_raw.drop_duplicates()\n",
    "print(data_raw[data_raw['tweetId'].isin(tweetIds)])"
   ]
  },
  {
   "cell_type": "markdown",
   "metadata": {},
   "source": [
    "We have removed the one duplicate entry and let the two tweets with different imageId(s). It would be useful to look at the users with multiple tweets to see if they tend to be true or fake tweets"
   ]
  },
  {
   "cell_type": "code",
   "execution_count": 33,
   "metadata": {},
   "outputs": [
    {
     "data": {
      "text/html": [
       "<div>\n",
       "<style scoped>\n",
       "    .dataframe tbody tr th:only-of-type {\n",
       "        vertical-align: middle;\n",
       "    }\n",
       "\n",
       "    .dataframe tbody tr th {\n",
       "        vertical-align: top;\n",
       "    }\n",
       "\n",
       "    .dataframe thead th {\n",
       "        text-align: right;\n",
       "    }\n",
       "</style>\n",
       "<table border=\"1\" class=\"dataframe\">\n",
       "  <thead>\n",
       "    <tr style=\"text-align: right;\">\n",
       "      <th></th>\n",
       "      <th>tweetId</th>\n",
       "      <th>tweetText</th>\n",
       "      <th>userId</th>\n",
       "      <th>imageId(s)</th>\n",
       "      <th>username</th>\n",
       "      <th>timestamp</th>\n",
       "      <th>label</th>\n",
       "    </tr>\n",
       "  </thead>\n",
       "  <tbody>\n",
       "    <tr>\n",
       "      <th>0</th>\n",
       "      <td>263046056240115712</td>\n",
       "      <td>¿Se acuerdan de la película: “El día después d...</td>\n",
       "      <td>21226711</td>\n",
       "      <td>sandyA_fake_46</td>\n",
       "      <td>iAnnieM</td>\n",
       "      <td>Mon Oct 29 22:34:01 +0000 2012</td>\n",
       "      <td>fake</td>\n",
       "    </tr>\n",
       "    <tr>\n",
       "      <th>1</th>\n",
       "      <td>262995061304852481</td>\n",
       "      <td>@milenagimon: Miren a Sandy en NY!  Tremenda i...</td>\n",
       "      <td>192378571</td>\n",
       "      <td>sandyA_fake_09</td>\n",
       "      <td>CarlosVerareal</td>\n",
       "      <td>Mon Oct 29 19:11:23 +0000 2012</td>\n",
       "      <td>fake</td>\n",
       "    </tr>\n",
       "    <tr>\n",
       "      <th>2</th>\n",
       "      <td>262979898002534400</td>\n",
       "      <td>Buena la foto del Huracán Sandy, me recuerda a...</td>\n",
       "      <td>132303095</td>\n",
       "      <td>sandyA_fake_09</td>\n",
       "      <td>LucasPalape</td>\n",
       "      <td>Mon Oct 29 18:11:08 +0000 2012</td>\n",
       "      <td>fake</td>\n",
       "    </tr>\n",
       "    <tr>\n",
       "      <th>3</th>\n",
       "      <td>262996108400271360</td>\n",
       "      <td>Scary shit #hurricane #NY http://t.co/e4JLBUfH</td>\n",
       "      <td>241995902</td>\n",
       "      <td>sandyA_fake_29</td>\n",
       "      <td>Haaaaarryyy</td>\n",
       "      <td>Mon Oct 29 19:15:33 +0000 2012</td>\n",
       "      <td>fake</td>\n",
       "    </tr>\n",
       "    <tr>\n",
       "      <th>4</th>\n",
       "      <td>263018881839411200</td>\n",
       "      <td>My fave place in the world #nyc #hurricane #sa...</td>\n",
       "      <td>250315890</td>\n",
       "      <td>sandyA_fake_15</td>\n",
       "      <td>princess__natt</td>\n",
       "      <td>Mon Oct 29 20:46:02 +0000 2012</td>\n",
       "      <td>fake</td>\n",
       "    </tr>\n",
       "  </tbody>\n",
       "</table>\n",
       "</div>"
      ],
      "text/plain": [
       "              tweetId                                          tweetText  \\\n",
       "0  263046056240115712  ¿Se acuerdan de la película: “El día después d...   \n",
       "1  262995061304852481  @milenagimon: Miren a Sandy en NY!  Tremenda i...   \n",
       "2  262979898002534400  Buena la foto del Huracán Sandy, me recuerda a...   \n",
       "3  262996108400271360     Scary shit #hurricane #NY http://t.co/e4JLBUfH   \n",
       "4  263018881839411200  My fave place in the world #nyc #hurricane #sa...   \n",
       "\n",
       "      userId      imageId(s)        username                       timestamp  \\\n",
       "0   21226711  sandyA_fake_46         iAnnieM  Mon Oct 29 22:34:01 +0000 2012   \n",
       "1  192378571  sandyA_fake_09  CarlosVerareal  Mon Oct 29 19:11:23 +0000 2012   \n",
       "2  132303095  sandyA_fake_09     LucasPalape  Mon Oct 29 18:11:08 +0000 2012   \n",
       "3  241995902  sandyA_fake_29     Haaaaarryyy  Mon Oct 29 19:15:33 +0000 2012   \n",
       "4  250315890  sandyA_fake_15  princess__natt  Mon Oct 29 20:46:02 +0000 2012   \n",
       "\n",
       "  label  \n",
       "0  fake  \n",
       "1  fake  \n",
       "2  fake  \n",
       "3  fake  \n",
       "4  fake  "
      ]
     },
     "execution_count": 33,
     "metadata": {},
     "output_type": "execute_result"
    }
   ],
   "source": [
    "data_raw.head()"
   ]
  },
  {
   "cell_type": "code",
   "execution_count": 34,
   "metadata": {},
   "outputs": [
    {
     "data": {
      "image/png": "[encoded data removed]",
      "text/plain": [
       "<Figure size 432x288 with 1 Axes>"
      ]
     },
     "metadata": {
      "needs_background": "light"
     },
     "output_type": "display_data"
    }
   ],
   "source": [
    "import seaborn as sns\n",
    "\n",
    "data_raw['label'].value_counts().plot(kind='bar')"
   ]
  },
  {
   "cell_type": "code",
   "execution_count": 36,
   "metadata": {},
   "outputs": [
    {
     "data": {
      "text/plain": [
       "<AxesSubplot:>"
      ]
     },
     "execution_count": 36,
     "metadata": {},
     "output_type": "execute_result"
    },
    {
     "data": {
      "image/png": "[encoded data removed]",
      "text/plain": [
       "<Figure size 432x288 with 1 Axes>"
      ]
     },
     "metadata": {
      "needs_background": "light"
     },
     "output_type": "display_data"
    }
   ],
   "source": [
    "data_raw = data_raw.drop(data_raw[data_raw['label'] == 'humor'].index)\n",
    "data_raw['label'].value_counts().plot(kind='bar')"
   ]
  },
  {
   "cell_type": "markdown",
   "metadata": {},
   "source": [
    "Removed the 'humor' label as from the project specification we do not want to predict this label so the entries with this label have been removed. We can see from the counts of the fake and real labels that we do have a skewed dataset. This would be something to look into (TODO)"
   ]
  },
  {
   "cell_type": "code",
   "execution_count": 65,
   "metadata": {},
   "outputs": [
    {
     "data": {
      "text/plain": [
       "<AxesSubplot:xlabel='username', ylabel='count'>"
      ]
     },
     "execution_count": 65,
     "metadata": {},
     "output_type": "execute_result"
    },
    {
     "data": {
      "image/png": "[encoded data removed]",
      "text/plain": [
       "<Figure size 1584x648 with 1 Axes>"
      ]
     },
     "metadata": {},
     "output_type": "display_data"
    }
   ],
   "source": [
    "freq_users = data_raw.groupby('username').filter(lambda x : len(x) > 3)\n",
    "freq_users.head()\n",
    "\n",
    "\n",
    "sns.set(rc={'figure.figsize':(22,9)})\n",
    "sns.countplot(x=\"username\", hue='label', data=freq_users)"
   ]
  },
  {
   "cell_type": "markdown",
   "metadata": {},
   "source": [
    "The userId's arent visible but we can see that some users (those with more than tweets in the dataset) do tweet completely either fake or real tweets but there are mixed accounts. I'm undecided if we should keep username in the dataset, this would be something to go back to the product owners on. We can drop userId as, by definition, it is purely a unique id for that user. We can also drop 'tweetId' as from context of the problem the Id of a tweet has no relation to its context and therefore if it is real or not. "
   ]
  },
  {
   "cell_type": "code",
   "execution_count": 67,
   "metadata": {},
   "outputs": [
    {
     "name": "stdout",
     "output_type": "stream",
     "text": [
      "Index(['tweetText', 'imageId(s)', 'username', 'timestamp', 'label'], dtype='object')\n"
     ]
    }
   ],
   "source": [
    "data_raw = data_raw.drop(columns=['tweetId', 'userId'])\n",
    "print(data_raw.columns)"
   ]
  }
 ],
 "metadata": {
  "interpreter": {
   "hash": "95f1bd513179ec155b64d390ddcc9bcad71f0907251713515d1de287f8f762de"
  },
  "kernelspec": {
   "display_name": "Python 3.7.11 64-bit ('base': conda)",
   "language": "python",
   "name": "python3"
  },
  "language_info": {
   "codemirror_mode": {
    "name": "ipython",
    "version": 3
   },
   "file_extension": ".py",
   "mimetype": "text/x-python",
   "name": "python",
   "nbconvert_exporter": "python",
   "pygments_lexer": "ipython3",
   "version": "3.7.11"
  },
  "orig_nbformat": 4
 },
 "nbformat": 4,
 "nbformat_minor": 2
}
